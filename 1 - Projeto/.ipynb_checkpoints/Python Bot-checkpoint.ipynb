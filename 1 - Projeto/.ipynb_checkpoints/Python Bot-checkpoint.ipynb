{
 "cells": [
  {
   "cell_type": "code",
   "execution_count": 83,
   "id": "eae418a8",
   "metadata": {
    "scrolled": true
   },
   "outputs": [
    {
     "name": "stdout",
     "output_type": "stream",
     "text": [
      "\n"
     ]
    },
    {
     "name": "stderr",
     "output_type": "stream",
     "text": [
      "[WDM] - ====== WebDriver manager ======\n",
      "[WDM] - Current google-chrome version is 109.0.5414\n",
      "[WDM] - Get LATEST chromedriver version for 109.0.5414 google-chrome\n",
      "[WDM] - Driver [C:\\Users\\gleisson.santos\\.wdm\\drivers\\chromedriver\\win32\\109.0.5414.74\\chromedriver.exe] found in cache\n"
     ]
    }
   ],
   "source": [
    "from selenium import webdriver\n",
    "from selenium.webdriver.chrome.options import Options\n",
    "from selenium.webdriver.chrome.service import Service\n",
    "from webdriver_manager.chrome import ChromeDriverManager\n",
    "from selenium.webdriver.common.by import By\n",
    "import selenium.webdriver.remote.webdriver\n",
    "import pandas as pd\n",
    "import time\n",
    "\n",
    "options = Options()\n",
    "options = webdriver.ChromeOptions()\n",
    "options.add_argument(\"--disable-logging\")\n",
    "options.add_argument(\"--log-level=3\")\n",
    "options.add_argument(\"start-maximized\")\n",
    "\n",
    "driver = webdriver.Chrome(service=Service(ChromeDriverManager().install()), options=options)\n",
    "\n",
    "link = (\"https://registro.br\")\n",
    "driver.get(link)\n",
    "\n",
    "\n"
   ]
  },
  {
   "cell_type": "code",
   "execution_count": 168,
   "id": "cfbe1ed5",
   "metadata": {},
   "outputs": [],
   "source": []
  },
  {
   "cell_type": "code",
   "execution_count": 171,
   "id": "a3912a3d",
   "metadata": {},
   "outputs": [
    {
     "name": "stdout",
     "output_type": "stream",
     "text": [
      "Pesquisado por: ddd.com.br:Domínio não disponível para registro.\n"
     ]
    }
   ],
   "source": [
    "def pesquisar(driver, lista):\n",
    "    pesquisar = driver.find_element(By.ID, \"is-avail-field\").send_keys(lista)\n",
    "    time.sleep(0.3)\n",
    "    pesquisar = driver.find_element(By.CSS_SELECTOR, 'button[type=submit]').click()\n",
    "    time.sleep(0.3)\n",
    "    pesquisar1 = driver.find_element(By.CSS_SELECTOR, 'p[class=\"font-3 is-avail-response-not-available\"]').text\n",
    "    pesquisar2 = driver.find_element(By.CSS_SELECTOR, 'strong[class=\"is-avail-response-fqdn font-2\"]').text\n",
    "    time.sleep(0.3)\n",
    "    pesquisar = driver.find_element(By.ID, \"is-avail-field\").clear()\n",
    "    teste = \"Pesquisado por: {}:{}\".format(pesquisar2,pesquisar1)\n",
    "    return teste\n"
   ]
  },
  {
   "cell_type": "code",
   "execution_count": 154,
   "id": "4bed75c0",
   "metadata": {
    "scrolled": true
   },
   "outputs": [
    {
     "name": "stdout",
     "output_type": "stream",
     "text": [
      "pesquisa1\n",
      "pesquisa2\n",
      "pesquisa3\n",
      "pesquisa4\n",
      "pesquisa5\n"
     ]
    }
   ],
   "source": [
    "buscar = [\"pesquisa1\",\"pesquisa2\",\"pesquisa3\", \"pesquisa4\", \"pesquisa5\"]\n",
    "\n",
    "dados = []\n",
    "for item in buscar:\n",
    "    print(item)\n",
    "    "
   ]
  }
 ],
 "metadata": {
  "kernelspec": {
   "display_name": "bot",
   "language": "python",
   "name": "bot"
  },
  "language_info": {
   "codemirror_mode": {
    "name": "ipython",
    "version": 3
   },
   "file_extension": ".py",
   "mimetype": "text/x-python",
   "name": "python",
   "nbconvert_exporter": "python",
   "pygments_lexer": "ipython3",
   "version": "3.9.7"
  }
 },
 "nbformat": 4,
 "nbformat_minor": 5
}
