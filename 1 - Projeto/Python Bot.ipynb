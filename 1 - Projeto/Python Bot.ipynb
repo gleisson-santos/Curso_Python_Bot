{
 "cells": [
  {
   "cell_type": "code",
   "execution_count": 325,
   "id": "eae418a8",
   "metadata": {},
   "outputs": [
    {
     "name": "stdout",
     "output_type": "stream",
     "text": [
      "\n"
     ]
    },
    {
     "name": "stderr",
     "output_type": "stream",
     "text": [
      "[WDM] - ====== WebDriver manager ======\n",
      "[WDM] - Current google-chrome version is 109.0.5414\n",
      "[WDM] - Get LATEST chromedriver version for 109.0.5414 google-chrome\n",
      "[WDM] - Driver [C:\\Users\\gleisson.santos\\.wdm\\drivers\\chromedriver\\win32\\109.0.5414.74\\chromedriver.exe] found in cache\n"
     ]
    }
   ],
   "source": [
    "from selenium import webdriver\n",
    "from selenium.webdriver.chrome.options import Options\n",
    "from selenium.webdriver.chrome.service import Service\n",
    "from selenium.webdriver.common.keys import Keys\n",
    "from webdriver_manager.chrome import ChromeDriverManager\n",
    "from selenium.webdriver.common.by import By\n",
    "import selenium.webdriver.remote.webdriver\n",
    "import pandas as pd\n",
    "import time\n",
    "\n",
    "options = Options()\n",
    "options = webdriver.ChromeOptions()\n",
    "options.add_argument(\"--disable-logging\")\n",
    "options.add_argument(\"--log-level=3\")\n",
    "options.add_argument(\"start-maximized\")\n",
    "\n",
    "driver = webdriver.Chrome(service=Service(ChromeDriverManager().install()), options=options)\n",
    "\n",
    "link = (\"https://registro.br\")\n",
    "driver.get(link)"
   ]
  },
  {
   "cell_type": "code",
   "execution_count": 306,
   "id": "8b55b8ac",
   "metadata": {},
   "outputs": [
    {
     "data": {
      "text/html": [
       "<div>\n",
       "<style scoped>\n",
       "    .dataframe tbody tr th:only-of-type {\n",
       "        vertical-align: middle;\n",
       "    }\n",
       "\n",
       "    .dataframe tbody tr th {\n",
       "        vertical-align: top;\n",
       "    }\n",
       "\n",
       "    .dataframe thead th {\n",
       "        text-align: right;\n",
       "    }\n",
       "</style>\n",
       "<table border=\"1\" class=\"dataframe\">\n",
       "  <thead>\n",
       "    <tr style=\"text-align: right;\">\n",
       "      <th></th>\n",
       "      <th>0</th>\n",
       "    </tr>\n",
       "  </thead>\n",
       "  <tbody>\n",
       "    <tr>\n",
       "      <th>0</th>\n",
       "      <td>roboscompython.com.br</td>\n",
       "    </tr>\n",
       "    <tr>\n",
       "      <th>1</th>\n",
       "      <td>hotmart.com</td>\n",
       "    </tr>\n",
       "    <tr>\n",
       "      <th>2</th>\n",
       "      <td>uol.com.br</td>\n",
       "    </tr>\n",
       "    <tr>\n",
       "      <th>3</th>\n",
       "      <td>clickjogos.com.br</td>\n",
       "    </tr>\n",
       "    <tr>\n",
       "      <th>4</th>\n",
       "      <td>jogosonline.com.br</td>\n",
       "    </tr>\n",
       "    <tr>\n",
       "      <th>5</th>\n",
       "      <td>facebook.com.br</td>\n",
       "    </tr>\n",
       "    <tr>\n",
       "      <th>6</th>\n",
       "      <td>instagram.com</td>\n",
       "    </tr>\n",
       "    <tr>\n",
       "      <th>7</th>\n",
       "      <td>teste857.com.br</td>\n",
       "    </tr>\n",
       "    <tr>\n",
       "      <th>8</th>\n",
       "      <td>gamesonline.com.br</td>\n",
       "    </tr>\n",
       "    <tr>\n",
       "      <th>9</th>\n",
       "      <td>dominiodeteste.com.br</td>\n",
       "    </tr>\n",
       "  </tbody>\n",
       "</table>\n",
       "</div>"
      ],
      "text/plain": [
       "                       0\n",
       "0  roboscompython.com.br\n",
       "1            hotmart.com\n",
       "2             uol.com.br\n",
       "3      clickjogos.com.br\n",
       "4     jogosonline.com.br\n",
       "5        facebook.com.br\n",
       "6          instagram.com\n",
       "7        teste857.com.br\n",
       "8     gamesonline.com.br\n",
       "9  dominiodeteste.com.br"
      ]
     },
     "execution_count": 306,
     "metadata": {},
     "output_type": "execute_result"
    }
   ],
   "source": [
    "import pandas as pd\n",
    "df = pd.read_excel(\"excel.xls\", header=None)\n",
    "df"
   ]
  },
  {
   "cell_type": "code",
   "execution_count": 326,
   "id": "7dd7de91",
   "metadata": {},
   "outputs": [],
   "source": [
    "buscar = [\"controllserv\",\"controll\",\"control-serv\",\"controll\"]\n"
   ]
  },
  {
   "cell_type": "code",
   "execution_count": 327,
   "id": "17d4a845",
   "metadata": {},
   "outputs": [],
   "source": [
    "def pesquisar(driver, lista):\n",
    "    pesquisar = driver.find_element(By.ID, \"is-avail-field\").send_keys(lista)\n",
    "    time.sleep(0.5)\n",
    "    pesquisar = driver.find_element(By.CSS_SELECTOR, 'button[type=submit]').click()\n",
    "    time.sleep(0.5)\n",
    "    \n",
    "    try:\n",
    "        dispo = driver.find_element(By.CSS_SELECTOR, 'p[class=\"font-3 is-avail-response-not-available\"]').text\n",
    "    except:\n",
    "        dispo = driver.find_element(By.CSS_SELECTOR, 'p[class=\"font-3 is-avail-response-available\"]').text\n",
    "        \n",
    "    pesquisar2 = driver.find_element(By.CSS_SELECTOR, 'strong[class=\"is-avail-response-fqdn font-2\"]').text   \n",
    "    \n",
    "    time.sleep(0.5)\n",
    "    pesquisar = driver.find_element(By.ID, \"is-avail-field\").clear()\n",
    "    time.sleep(0.5)\n",
    "  \n",
    "    teste1 = \"Pesquisando por: {}: {}\".format(pesquisar2, dispo)\n",
    "        \n",
    "    return teste1\n",
    "\n",
    "#pesquisar(driver)\n"
   ]
  },
  {
   "cell_type": "code",
   "execution_count": 342,
   "id": "cb921409",
   "metadata": {},
   "outputs": [
    {
     "name": "stdout",
     "output_type": "stream",
     "text": [
      "                                             Procura\n",
      "0  Pesquisando por: controllserv.com.br: Domínio ...\n",
      "1  Pesquisando por: controll.com.br: Domínio não ...\n",
      "2  Pesquisando por: control-serv.com.br: Domínio ...\n",
      "3  Pesquisando por: controll.com.br: Domínio não ...\n"
     ]
    }
   ],
   "source": [
    "dados = []\n",
    "for item in buscar:\n",
    "    a = pesquisar(driver, item)\n",
    "    dados.append(a)\n",
    "df = pd.DataFrame(dados, columns=[\"Procura\"])\n",
    "df.to_excel(\"Pesquisa.xlsx\", index = False)\n",
    "print(df)\n",
    "\n"
   ]
  },
  {
   "cell_type": "code",
   "execution_count": 323,
   "id": "44f220bb",
   "metadata": {
    "scrolled": true
   },
   "outputs": [
    {
     "name": "stdout",
     "output_type": "stream",
     "text": [
      "Pesquisando por: roboscompython.com.br: Domínio disponível para registro.\n",
      "Pesquisando por: hotmart.com.br: Domínio não disponível para registro.\n",
      "Pesquisando por: uol.com.br: Domínio não disponível para registro.\n",
      "Pesquisando por: clickjogos.com.br: Domínio não disponível para registro.\n",
      "Pesquisando por: jogosonline.com.br: Domínio não disponível para registro.\n",
      "Pesquisando por: facebook.com.br: Domínio não disponível para registro.\n",
      "Pesquisando por: instagram.com.br: Domínio não disponível para registro.\n",
      "Pesquisando por: teste857.com.br: Domínio disponível para registro.\n",
      "Pesquisando por: gamesonline.com.br: Domínio não disponível para registro.\n",
      "Pesquisando por: dominiodeteste.com.br: Domínio não disponível para registro.\n"
     ]
    }
   ],
   "source": [
    "dados = []\n",
    "for i, row in df.itertuples():\n",
    "    a = pesquisar(driver, row) \n",
    "    dados.append(a)\n",
    "print(\"\\n\".join(dados))"
   ]
  }
 ],
 "metadata": {
  "kernelspec": {
   "display_name": "bot",
   "language": "python",
   "name": "bot"
  },
  "language_info": {
   "codemirror_mode": {
    "name": "ipython",
    "version": 3
   },
   "file_extension": ".py",
   "mimetype": "text/x-python",
   "name": "python",
   "nbconvert_exporter": "python",
   "pygments_lexer": "ipython3",
   "version": "3.9.7"
  }
 },
 "nbformat": 4,
 "nbformat_minor": 5
}
