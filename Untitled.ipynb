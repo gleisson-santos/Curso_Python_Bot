{
 "cells": [
  {
   "cell_type": "code",
   "execution_count": 6,
   "id": "3134934e",
   "metadata": {},
   "outputs": [
    {
     "ename": "NameError",
     "evalue": "name 'MIMEText' is not defined",
     "output_type": "error",
     "traceback": [
      "\u001b[1;31m---------------------------------------------------------------------------\u001b[0m",
      "\u001b[1;31mNameError\u001b[0m                                 Traceback (most recent call last)",
      "\u001b[1;32mC:\\Users\\GLEISS~1.SAN\\AppData\\Local\\Temp/ipykernel_7944/2281246387.py\u001b[0m in \u001b[0;36m<module>\u001b[1;34m\u001b[0m\n\u001b[0;32m     11\u001b[0m \u001b[0mmsg\u001b[0m\u001b[1;33m[\u001b[0m\u001b[1;34m'To'\u001b[0m\u001b[1;33m]\u001b[0m \u001b[1;33m=\u001b[0m \u001b[1;34m\"recipient@example.com\"\u001b[0m\u001b[1;33m\u001b[0m\u001b[1;33m\u001b[0m\u001b[0m\n\u001b[0;32m     12\u001b[0m \u001b[0mmsg\u001b[0m\u001b[1;33m[\u001b[0m\u001b[1;34m'Subject'\u001b[0m\u001b[1;33m]\u001b[0m \u001b[1;33m=\u001b[0m \u001b[1;34m\"Test Email with Attachment\"\u001b[0m\u001b[1;33m\u001b[0m\u001b[1;33m\u001b[0m\u001b[0m\n\u001b[1;32m---> 13\u001b[1;33m \u001b[0mmsg\u001b[0m\u001b[1;33m.\u001b[0m\u001b[0mattach\u001b[0m\u001b[1;33m(\u001b[0m\u001b[0mMIMEText\u001b[0m\u001b[1;33m(\u001b[0m\u001b[1;34m\"This is a test email with an attachment.\"\u001b[0m\u001b[1;33m)\u001b[0m\u001b[1;33m)\u001b[0m\u001b[1;33m\u001b[0m\u001b[1;33m\u001b[0m\u001b[0m\n\u001b[0m\u001b[0;32m     14\u001b[0m \u001b[1;33m\u001b[0m\u001b[0m\n\u001b[0;32m     15\u001b[0m \u001b[1;31m# Open the file to be attached\u001b[0m\u001b[1;33m\u001b[0m\u001b[1;33m\u001b[0m\u001b[0m\n",
      "\u001b[1;31mNameError\u001b[0m: name 'MIMEText' is not defined"
     ]
    }
   ],
   "source": [
    "import smtplib\n",
    "from email.mime.multipart import MIMEMultipart\n",
    "from email.mime.base import MIMEBase\n",
    "from email import encoders\n",
    "\n",
    "# Create the email object\n",
    "msg = MIMEMultipart()\n",
    "\n",
    "# Set the sender, recipient, subject, and body of the email\n",
    "msg['From'] = \"sender@example.com\"\n",
    "msg['To'] = \"recipient@example.com\"\n",
    "msg['Subject'] = \"Test Email with Attachment\"\n",
    "msg.attach(MIMEText(\"This is a test email with an attachment.\"))\n",
    "\n",
    "# Open the file to be attached\n",
    "filename = \"excel.xls\"\n",
    "attachment = open(filename, \"rb\")\n",
    "\n",
    "# Create the attachment\n",
    "part = MIMEBase('application', \"octet-stream\")\n",
    "part.set_payload((attachment).read())\n",
    "encoders.encode_base64(part)\n",
    "part.add_header('Content-Disposition', \"attachment; filename= %s\" % filename)\n",
    "\n",
    "# Add the attachment to the email\n",
    "msg.attach(part)\n",
    "\n",
    "# Connect to the email server\n",
    "server = smtplib.SMTP('smtp.example.com')\n",
    "\n",
    "# Login to the email server (if required)\n",
    "server.login(\"username\", \"password\")\n",
    "\n",
    "# Send the email\n",
    "server.sendmail(msg['From'], msg['To'], msg.as_string())\n",
    "\n",
    "# Close the email server connection\n",
    "server.quit()\n"
   ]
  }
 ],
 "metadata": {
  "kernelspec": {
   "display_name": "Python 3 (ipykernel)",
   "language": "python",
   "name": "python3"
  },
  "language_info": {
   "codemirror_mode": {
    "name": "ipython",
    "version": 3
   },
   "file_extension": ".py",
   "mimetype": "text/x-python",
   "name": "python",
   "nbconvert_exporter": "python",
   "pygments_lexer": "ipython3",
   "version": "3.9.7"
  }
 },
 "nbformat": 4,
 "nbformat_minor": 5
}
